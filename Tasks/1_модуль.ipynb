{
  "nbformat": 4,
  "nbformat_minor": 0,
  "metadata": {
    "colab": {
      "provenance": [],
      "authorship_tag": "ABX9TyPs1FD9CurrXplJoT8V/89d",
      "include_colab_link": true
    },
    "kernelspec": {
      "name": "python3",
      "display_name": "Python 3"
    },
    "language_info": {
      "name": "python"
    }
  },
  "cells": [
    {
      "cell_type": "markdown",
      "metadata": {
        "id": "view-in-github",
        "colab_type": "text"
      },
      "source": [
        "<a href=\"https://colab.research.google.com/github/ArseniyPles/University/blob/main/Tasks/1_%D0%BC%D0%BE%D0%B4%D1%83%D0%BB%D1%8C.ipynb\" target=\"_parent\"><img src=\"https://colab.research.google.com/assets/colab-badge.svg\" alt=\"Open In Colab\"/></a>"
      ]
    },
    {
      "cell_type": "code",
      "execution_count": 1,
      "metadata": {
        "colab": {
          "base_uri": "https://localhost:8080/"
        },
        "id": "SW7NF0v13H8m",
        "outputId": "b5ce27a8-3a6b-4de9-c083-e9b1f3b2d5d0"
      },
      "outputs": [
        {
          "output_type": "stream",
          "name": "stdout",
          "text": [
            "2\n",
            "4\n",
            "1\n",
            "7\n"
          ]
        }
      ],
      "source": [
        "1.\n",
        "a = int(input())\n",
        "b = int(input())\n",
        "c = int(input())\n",
        "print(a+b+c)"
      ]
    },
    {
      "cell_type": "code",
      "source": [
        "2.\n",
        "a = int(input('Основание:'))\n",
        "b = int(input('Высота:'))\n",
        "print(a*b/2)"
      ],
      "metadata": {
        "colab": {
          "base_uri": "https://localhost:8080/"
        },
        "id": "ctFURilO6HKD",
        "outputId": "4a84cede-ae38-40a0-9aa9-e53af37a9a81"
      },
      "execution_count": 2,
      "outputs": [
        {
          "output_type": "stream",
          "name": "stdout",
          "text": [
            "Основание:3\n",
            "Высота:5\n",
            "7.5\n"
          ]
        }
      ]
    },
    {
      "cell_type": "code",
      "source": [
        "3.\n",
        "x = input('Как тебя зовут? ')\n",
        "print('Привет,', x +'!')"
      ],
      "metadata": {
        "colab": {
          "base_uri": "https://localhost:8080/"
        },
        "id": "y9NmQaJI7Plx",
        "outputId": "7d51a446-9f47-4544-d1f4-b807cad52dfe"
      },
      "execution_count": 6,
      "outputs": [
        {
          "output_type": "stream",
          "name": "stdout",
          "text": [
            "Как тебя зовут? Арсений\n",
            "Привет, Арсений!\n"
          ]
        }
      ]
    },
    {
      "cell_type": "code",
      "source": [
        "4.\n",
        "a = int(input())\n",
        "print('Число после:', a+1)\n",
        "print('Число до:', a-1)"
      ],
      "metadata": {
        "colab": {
          "base_uri": "https://localhost:8080/"
        },
        "id": "jiF1AkiW75pp",
        "outputId": "cf58a890-a22f-47bd-c2f1-316dc4945d5f"
      },
      "execution_count": 7,
      "outputs": [
        {
          "output_type": "stream",
          "name": "stdout",
          "text": [
            "170\n",
            "Число после: 171\n",
            "Число до: 169\n"
          ]
        }
      ]
    },
    {
      "cell_type": "code",
      "source": [
        "5.\n",
        "x = int(input('Кол-во студентов: '))\n",
        "b = int(input('Кол-во яблок: '))\n",
        "c = b//x\n",
        "y = x%b\n",
        "print('Яблок у студента:', str(c)+',', 'в корзине:', y)\n"
      ],
      "metadata": {
        "colab": {
          "base_uri": "https://localhost:8080/"
        },
        "id": "pJhNxfHM8XQw",
        "outputId": "bbb1ae0d-318b-4602-99db-6de1b5326a65"
      },
      "execution_count": 15,
      "outputs": [
        {
          "output_type": "stream",
          "name": "stdout",
          "text": [
            "Кол-во студентов: 6\n",
            "Кол-во яблок: 50\n",
            "Яблок у студента: 8, в корзине: 6\n"
          ]
        }
      ]
    },
    {
      "cell_type": "code",
      "source": [
        "6.\n",
        "x = int(input())\n",
        "b = x//3600\n",
        "c = x//60\n",
        "print(b,c)"
      ],
      "metadata": {
        "colab": {
          "base_uri": "https://localhost:8080/"
        },
        "id": "mm5g778Y-2Ok",
        "outputId": "54a23bca-a4f1-4e05-ebb8-db9e5bd7047c"
      },
      "execution_count": 16,
      "outputs": [
        {
          "output_type": "stream",
          "name": "stdout",
          "text": [
            "3900\n",
            "1 65\n"
          ]
        }
      ]
    },
    {
      "cell_type": "code",
      "source": [
        "7.\n",
        "h,m,s = int(input()),int(input()),int(input())\n",
        "h1,m1,s1 = int(input()),int(input()),int(input())\n",
        "v1 = h*3600 + m*60 + s\n",
        "v2 = h1*3600 + m1*60 + s1\n",
        "if v1<v2:\n",
        "  print(v2-v1)\n",
        "else:\n",
        "  print(v1-v2)"
      ],
      "metadata": {
        "colab": {
          "base_uri": "https://localhost:8080/"
        },
        "id": "AXb9RLbr_WNL",
        "outputId": "8c95a5f6-0124-4715-f094-7c6206455bbf"
      },
      "execution_count": 18,
      "outputs": [
        {
          "output_type": "stream",
          "name": "stdout",
          "text": [
            "1\n",
            "1\n",
            "1\n",
            "2\n",
            "2\n",
            "2\n",
            "3661\n"
          ]
        }
      ]
    }
  ]
}