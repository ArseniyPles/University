{
  "nbformat": 4,
  "nbformat_minor": 0,
  "metadata": {
    "colab": {
      "provenance": [],
      "include_colab_link": true
    },
    "kernelspec": {
      "name": "python3",
      "display_name": "Python 3"
    },
    "language_info": {
      "name": "python"
    }
  },
  "cells": [
    {
      "cell_type": "markdown",
      "metadata": {
        "id": "view-in-github",
        "colab_type": "text"
      },
      "source": [
        "<a href=\"https://colab.research.google.com/github/ArseniyPles/University/blob/main/Extra_Tasks/%D0%94%D0%BE%D0%BF%D0%BE%D0%BB%D0%BD%D0%B8%D1%82%D0%B5%D0%BB%D1%8C%D0%BD%D0%BE%D0%B5%20%D0%B7%D0%B0%D0%B4%D0%B0%D0%BD%D0%B8%D0%B5%20%E2%84%962.ipynb\" target=\"_parent\"><img src=\"https://colab.research.google.com/assets/colab-badge.svg\" alt=\"Open In Colab\"/></a>"
      ]
    },
    {
      "cell_type": "code",
      "execution_count": 1,
      "metadata": {
        "colab": {
          "base_uri": "https://localhost:8080/"
        },
        "id": "mjSV9pc0BTpX",
        "outputId": "e869f155-504e-45a6-ee98-8211482f9558"
      },
      "outputs": [
        {
          "name": "stdout",
          "output_type": "stream",
          "text": [
            "1. Добавить контакт\n",
            "2. Удалить контакт\n",
            "3. Показать все контакты\n",
            "4. Изменить номер\n",
            "5. Выход\n",
            "\n",
            "Выберите категорию: 5\n"
          ]
        }
      ],
      "source": [
        "choice = [\n",
        "    \"1. Добавить контакт\",\n",
        "    \"2. Удалить контакт\",\n",
        "    \"3. Показать все контакты\",\n",
        "    \"4. Изменить номер\",\n",
        "    \"5. Выход\"\n",
        "]\n",
        "phone_dct = {}\n",
        "\n",
        "def new_contact(name: str, number: str) -> dict:\n",
        "    phone_dct[rename(name)] = renumber(number)\n",
        "    return phone_dct\n",
        "def delete_contact(name: str) -> None:\n",
        "    phone_dct.__delitem__(name)\n",
        "def view() -> None:\n",
        "    if len(phone_dct) == 0:\n",
        "        print(\"Контактов нет\")\n",
        "        pass\n",
        "    for item in phone_dct.items():\n",
        "        print(' '.join(item))\n",
        "def rename(value: str) -> str:\n",
        "    array = value.split(\" \")\n",
        "    for index in range(len(array)):\n",
        "        array[index] = array[index][0].upper() + array[index][1:len(array[index])].lower()\n",
        "    return ' '.join(array)\n",
        "def renumber(value: str) -> str:\n",
        "    if len(value) < 10: return \"Попробуйте ещё раз\"\n",
        "    if len(value) == 11:\n",
        "        return value.replace(value[0], '+7', 1)\n",
        "    return '+7' + value\n",
        "\n",
        "while True:\n",
        "    print('\\n'.join(choice))\n",
        "    option = input(\"\\nВыберите категорию: \")\n",
        "    if not option.isdigit():\n",
        "        continue\n",
        "    if int(option) not in [1, 2, 3, 4, 5]:\n",
        "        continue\n",
        "    if int(option) == 5:\n",
        "        break\n",
        "    option_choice = {\n",
        "        1: lambda _: new_contact(input(\"Введите имя: \"), input(\"Введите телефон: \")),\n",
        "        2: lambda _: delete_contact(input(\"Введите имя: \")),\n",
        "        3: lambda _: view(),\n",
        "        4: lambda _: new_contact(input(\"Введите имя: \"), input(\"Введите телефон: \")),\n",
        "    }\n",
        "    option_choice.get(int(option), 5)(None)"
      ]
    }
  ]
}