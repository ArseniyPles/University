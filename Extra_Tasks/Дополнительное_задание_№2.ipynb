{
  "nbformat": 4,
  "nbformat_minor": 0,
  "metadata": {
    "colab": {
      "provenance": [],
      "authorship_tag": "ABX9TyNSMvyNyoK9g5sf+GDmtiPi",
      "include_colab_link": true
    },
    "kernelspec": {
      "name": "python3",
      "display_name": "Python 3"
    },
    "language_info": {
      "name": "python"
    }
  },
  "cells": [
    {
      "cell_type": "markdown",
      "metadata": {
        "id": "view-in-github",
        "colab_type": "text"
      },
      "source": [
        "<a href=\"https://colab.research.google.com/github/ArseniyPles/University/blob/main/Extra_Tasks/%D0%94%D0%BE%D0%BF%D0%BE%D0%BB%D0%BD%D0%B8%D1%82%D0%B5%D0%BB%D1%8C%D0%BD%D0%BE%D0%B5_%D0%B7%D0%B0%D0%B4%D0%B0%D0%BD%D0%B8%D0%B5_%E2%84%962.ipynb\" target=\"_parent\"><img src=\"https://colab.research.google.com/assets/colab-badge.svg\" alt=\"Open In Colab\"/></a>"
      ]
    },
    {
      "cell_type": "code",
      "execution_count": 40,
      "metadata": {
        "colab": {
          "base_uri": "https://localhost:8080/"
        },
        "id": "bnIAhacklBa_",
        "outputId": "e2d9601a-acd7-4b33-b98a-78c2b7d05cda"
      },
      "outputs": [
        {
          "output_type": "stream",
          "name": "stdout",
          "text": [
            "Выберите функцию:\n",
            " 1.Добавить контакт\n",
            " 2.Удалить контакт\n",
            " 3.Показать список контактов\n",
            " 4.Изменить номер\n",
            " 5.Выход\n",
            "Введите номер функции: 1\n",
            "Введите название контакта: Света Сочи\n",
            "Введите номер телефона: 7888\n",
            "Номер должен содержать только цифры, начинаться на 7 и количество цифр равняться 11! Проверьте все и попробуйте еще раз!\n",
            "Введите номер телефона: 79829897614\n",
            "Номер успешно добавлен!\n",
            "Введите номер функции: 1\n",
            "Введите название контакта: оля клуб\n",
            "Введите номер телефона: 78005553535\n",
            "Номер успешно добавлен!\n",
            "Введите номер функции: 3\n",
            "Света Сочи - 79829897614\n",
            "Оля Клуб - 78005553535\n",
            "Введите номер функции: 4\n",
            "Введите название контакта, номер которого хотите изменить: денчик\n",
            "Такого контакта нет! Попробуйте еще раз!\n",
            "Введите название контакта, номер которого хотите изменить: Оля Клуб\n",
            "Введите новый номер: 79504940063\n",
            "Успешно!\n",
            "Введите номер функции: 3\n",
            "Света Сочи - 79829897614\n",
            "Оля Клуб - 79504940063\n",
            "Введите номер функции: 2\n",
            "Введите название контакта, который хотите удалить: санечка\n",
            "Такого контакта нет!\n",
            "Введите название контакта, который хотите удалить: Оля Клуб\n",
            "Контакт успешно удалён!\n",
            "Введите номер функции: 3\n",
            "Света Сочи - 79829897614\n",
            "Введите номер функции: 5\n",
            "Успешно.\n"
          ]
        }
      ],
      "source": [
        "print('Выберите функцию:\\n 1.Добавить контакт\\n 2.Удалить контакт\\n 3.Показать список контактов\\n 4.Изменить номер\\n 5.Выход')\n",
        "phone_dct = {}\n",
        "while True:\n",
        "  user_input = input('Введите номер функции: ')\n",
        "\n",
        "  if user_input == '5':\n",
        "    print('Успешно.')\n",
        "    break\n",
        "  elif user_input == '1':\n",
        "    name = input('Введите название контакта: ')\n",
        "    name = name.title()\n",
        "    number = input('Введите номер телефона: ')\n",
        "    while not(number.isdigit()) or not(number[0]=='7') or not(len(number)==11):\n",
        "      print('Номер должен содержать только цифры, начинаться на 7 и количество цифр равняться 11! Проверьте все и попробуйте еще раз!')\n",
        "      number = input('Введите номер телефона: ')\n",
        "    phone_dct[name] = number\n",
        "    print('Номер успешно добавлен!')\n",
        "  elif user_input == '2':\n",
        "    if len(phone_dct) == 0:\n",
        "      print('Контактов нет.')\n",
        "    else:\n",
        "      delete_name = input('Введите название контакта, который хотите удалить: ')\n",
        "      delete_name = delete_name.title()\n",
        "      while not(delete_name in phone_dct):\n",
        "        print('Такого контакта нет!')\n",
        "        delete_name = input('Введите название контакта, который хотите удалить: ')\n",
        "        delete_name = delete_name.title()\n",
        "      del phone_dct[delete_name]\n",
        "      print('Контакт успешно удалён!')\n",
        "  elif user_input == '3':\n",
        "    if len(phone_dct) == 0:\n",
        "      print('Контактов нет.')\n",
        "    else:\n",
        "      for key, value in phone_dct.items():\n",
        "        print(key, '-', value)\n",
        "  elif user_input == '4':\n",
        "    if len(phone_dct) == 0:\n",
        "      print('Контактов нет.')\n",
        "    else:\n",
        "      replace_number = input('Введите название контакта, номер которого хотите изменить: ')\n",
        "      replace_number = replace_number.title()\n",
        "      while not(replace_number in phone_dct):\n",
        "        print('Такого контакта нет! Попробуйте еще раз!')\n",
        "        replace_number = input('Введите название контакта, номер которого хотите изменить: ')\n",
        "      new_number = input('Введите новый номер: ')\n",
        "      while not(number.isdigit()) or not(number[0]=='7') or not(len(number)==11):\n",
        "        print('Номер должен содержать только цифры, начинаться на 7 и количество цифр равняться 11! Проверьте все и попробуйте еще раз!')\n",
        "        new_number = input('Введите новый номер: ')\n",
        "      phone_dct[replace_number] = int(new_number)\n",
        "      print('Успешно!')\n"
      ]
    }
  ]
}