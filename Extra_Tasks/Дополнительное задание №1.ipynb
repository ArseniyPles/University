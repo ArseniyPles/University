{
  "cells": [
    {
      "cell_type": "markdown",
      "metadata": {
        "id": "view-in-github",
        "colab_type": "text"
      },
      "source": [
        "<a href=\"https://colab.research.google.com/github/ArseniyPles/University/blob/main/Extra_Tasks/%D0%94%D0%BE%D0%BF%D0%BE%D0%BB%D0%BD%D0%B8%D1%82%D0%B5%D0%BB%D1%8C%D0%BD%D0%BE%D0%B5%20%D0%B7%D0%B0%D0%B4%D0%B0%D0%BD%D0%B8%D0%B5%20%E2%84%961.ipynb\" target=\"_parent\"><img src=\"https://colab.research.google.com/assets/colab-badge.svg\" alt=\"Open In Colab\"/></a>"
      ]
    },
    {
      "cell_type": "code",
      "source": [
        "import random\n",
        "\n",
        "good_answer = random.randint(1,100)\n",
        "count = 0\n",
        "\n",
        "while True:\n",
        "  count += 1\n",
        "  user_answer = input('Введите число: ')\n",
        "\n",
        "  if user_answer.lower() == 'выход':\n",
        "    print('Конец игры!')\n",
        "    break\n",
        "  elif not(user_answer.isdigit()):\n",
        "    count = count - 1\n",
        "    print('Ошибка! Введите число!')\n",
        "  elif int(user_answer) == good_answer:\n",
        "    print(f'Поздравляю! Вы угадали число за {count} попыток!')\n",
        "    break\n",
        "  elif int(user_answer) < good_answer:\n",
        "    print('Ваше число меньше! Попробуйте еще раз!')\n",
        "  elif int(user_answer) > good_answer:\n",
        "    print('Ваше число больше! Попробуйте еще раз!')"
      ],
      "metadata": {
        "id": "0un1zdNmI32e",
        "outputId": "53bd51d5-856a-4f8f-eaef-31b053445a32",
        "colab": {
          "base_uri": "https://localhost:8080/"
        }
      },
      "execution_count": null,
      "outputs": [
        {
          "output_type": "stream",
          "name": "stdout",
          "text": [
            "Введите число: asdasda\n",
            "Ошибка! Введите число!\n",
            "Введите число: 50\n",
            "Ваше число меньше! Попробуйте еще раз!\n",
            "Введите число: 75\n",
            "Ваше число меньше! Попробуйте еще раз!\n",
            "Введите число: 90\n",
            "Ваше число больше! Попробуйте еще раз!\n",
            "Введите число: 82\n",
            "Ваше число меньше! Попробуйте еще раз!\n",
            "Введите число: 87\n",
            "Ваше число больше! Попробуйте еще раз!\n",
            "Введите число: 85\n",
            "Ваше число больше! Попробуйте еще раз!\n",
            "Введите число: 84\n",
            "Поздравляю! Вы угадали число за 7 попыток!\n"
          ]
        }
      ]
    }
  ],
  "metadata": {
    "colab": {
      "name": "Добро пожаловать в Colaboratory!",
      "provenance": [],
      "include_colab_link": true
    },
    "kernelspec": {
      "display_name": "Python 3",
      "name": "python3"
    }
  },
  "nbformat": 4,
  "nbformat_minor": 0
}